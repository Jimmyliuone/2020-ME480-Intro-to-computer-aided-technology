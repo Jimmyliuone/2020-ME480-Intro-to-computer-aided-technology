{
 "cells": [
  {
   "cell_type": "code",
   "execution_count": 1,
   "metadata": {},
   "outputs": [],
   "source": [
    "import numpy as np\n",
    "import matplotlib.pyplot as plt"
   ]
  },
  {
   "cell_type": "code",
   "execution_count": 2,
   "metadata": {},
   "outputs": [],
   "source": [
    "def hex_area(s):\n",
    "    '''\n",
    "    domain: float number of the side length (R)\n",
    "    co-domain: float number of the area (R^2 -> R)\n",
    "    '''\n",
    "    area = 3**1.5*s**2/2\n",
    "    return area"
   ]
  },
  {
   "cell_type": "code",
   "execution_count": 3,
   "metadata": {},
   "outputs": [
    {
     "data": {
      "text/plain": [
       "210.4441731196186"
      ]
     },
     "execution_count": 3,
     "metadata": {},
     "output_type": "execute_result"
    }
   ],
   "source": [
    "hex_area(9)"
   ]
  },
  {
   "cell_type": "code",
   "execution_count": 4,
   "metadata": {},
   "outputs": [],
   "source": [
    "def pen_area(s):\n",
    "    '''\n",
    "    domain: float number of the side length (R)\n",
    "    co-domain: float number of the area (R^2 -> R)\n",
    "    '''\n",
    "    h = s/2*np.tan(np.radians(54))\n",
    "    area = s*h*5/2\n",
    "    return area"
   ]
  },
  {
   "cell_type": "code",
   "execution_count": 5,
   "metadata": {},
   "outputs": [
    {
     "data": {
      "text/plain": [
       "84.30339262885937"
      ]
     },
     "execution_count": 5,
     "metadata": {},
     "output_type": "execute_result"
    }
   ],
   "source": [
    "pen_area(7)"
   ]
  },
  {
   "cell_type": "code",
   "execution_count": 6,
   "metadata": {},
   "outputs": [],
   "source": [
    "def ft_and_inch_to_cm(f,i):\n",
    "    '''\n",
    "    domain: integers of feet and inches height (Z)\n",
    "    co-domain: float number of centimeters height (R)\n",
    "    '''\n",
    "    height = f*30.48 + i*2.54\n",
    "    return height"
   ]
  },
  {
   "cell_type": "code",
   "execution_count": 7,
   "metadata": {
    "scrolled": true
   },
   "outputs": [
    {
     "data": {
      "text/plain": [
       "177.8"
      ]
     },
     "execution_count": 7,
     "metadata": {},
     "output_type": "execute_result"
    }
   ],
   "source": [
    "ft_and_inch_to_cm(5,10)"
   ]
  },
  {
   "cell_type": "code",
   "execution_count": 8,
   "metadata": {},
   "outputs": [],
   "source": [
    "def hex_prism_vol(s,l):\n",
    "    '''\n",
    "    domain: float number of the side length and height (R)\n",
    "    co-domain: float number of the area (R^3 ->R)\n",
    "    '''\n",
    "    area = hex_area(s)\n",
    "    vol = area*l\n",
    "    return vol"
   ]
  },
  {
   "cell_type": "code",
   "execution_count": 9,
   "metadata": {},
   "outputs": [
    {
     "data": {
      "text/plain": [
       "420.8883462392372"
      ]
     },
     "execution_count": 9,
     "metadata": {},
     "output_type": "execute_result"
    }
   ],
   "source": [
    "hex_prism_vol(9,2)"
   ]
  },
  {
   "cell_type": "code",
   "execution_count": 10,
   "metadata": {},
   "outputs": [],
   "source": [
    "def temp_converter(t,b):\n",
    "    '''\n",
    "    domain: float number of the temperature (R)\n",
    "    co-domain: float number of the temperature (R)\n",
    "    '''\n",
    "    if b > 0:\n",
    "        t_new = t*9/5 + 32\n",
    "    else:\n",
    "        t_new = (t-32)*5/9\n",
    "    return t_new"
   ]
  },
  {
   "cell_type": "code",
   "execution_count": 11,
   "metadata": {},
   "outputs": [
    {
     "data": {
      "text/plain": [
       "26.666666666666668"
      ]
     },
     "execution_count": 11,
     "metadata": {},
     "output_type": "execute_result"
    }
   ],
   "source": [
    "temp_converter(80,0)"
   ]
  },
  {
   "cell_type": "code",
   "execution_count": 12,
   "metadata": {},
   "outputs": [],
   "source": [
    "def F_to_C(t):\n",
    "    '''\n",
    "    domain: float number of the temperature (R)\n",
    "    co-domain: float number of the temperature (R)\n",
    "    '''\n",
    "    t_new = (t-32)*5/9\n",
    "    return t_new"
   ]
  },
  {
   "cell_type": "code",
   "execution_count": 13,
   "metadata": {
    "scrolled": true
   },
   "outputs": [
    {
     "data": {
      "text/plain": [
       "30.0"
      ]
     },
     "execution_count": 13,
     "metadata": {},
     "output_type": "execute_result"
    }
   ],
   "source": [
    "F_to_C(86)"
   ]
  },
  {
   "cell_type": "code",
   "execution_count": 14,
   "metadata": {},
   "outputs": [],
   "source": [
    "def f_piecewise(x):\n",
    "    '''\n",
    "    domain: float number of x (R)\n",
    "    co-domain: float number of f(x) (R)\n",
    "    '''\n",
    "    if x > -9 and x <= -5:\n",
    "        y = -9\n",
    "    elif x > -5 and x <= -1:\n",
    "        y = 6\n",
    "    elif x > -1 and x <= 9:\n",
    "        y = -7\n",
    "    elif x > 9 or x < -9:\n",
    "        y = 0\n",
    "    return y"
   ]
  },
  {
   "cell_type": "code",
   "execution_count": 15,
   "metadata": {},
   "outputs": [
    {
     "data": {
      "text/plain": [
       "-7"
      ]
     },
     "execution_count": 15,
     "metadata": {},
     "output_type": "execute_result"
    }
   ],
   "source": [
    "f_piecewise(5)"
   ]
  },
  {
   "cell_type": "code",
   "execution_count": 16,
   "metadata": {},
   "outputs": [],
   "source": [
    "def plotF(func):\n",
    "    X = np.linspace(-20,20,10000,endpoint = True)\n",
    "    vfunc = np.vectorize(func)\n",
    "    R = vfunc(X)\n",
    "    plt.plot(X,R)\n",
    "    plt.show"
   ]
  },
  {
   "cell_type": "code",
   "execution_count": 17,
   "metadata": {},
   "outputs": [
    {
     "data": {
      "image/png": "[encoded data removed]",
      "text/plain": [
       "<Figure size 432x288 with 1 Axes>"
      ]
     },
     "metadata": {
      "needs_background": "light"
     },
     "output_type": "display_data"
    }
   ],
   "source": [
    "def modulo(a):\n",
    "    '''\n",
    "    domain: float number of a (R)\n",
    "    co-domain: float number of f(a) (R)\n",
    "    '''\n",
    "    b = a%10\n",
    "    if b < 5:\n",
    "        b = b\n",
    "    if b > 5:\n",
    "        b = 10 - b\n",
    "    return b*0.4 - 1\n",
    "plotF(modulo)"
   ]
  },
  {
   "cell_type": "code",
   "execution_count": 18,
   "metadata": {},
   "outputs": [
    {
     "data": {
      "image/png": "[encoded data removed]",
      "text/plain": [
       "<Figure size 432x288 with 1 Axes>"
      ]
     },
     "metadata": {
      "needs_background": "light"
     },
     "output_type": "display_data"
    }
   ],
   "source": [
    "def sqr_modulo(a):\n",
    "    '''\n",
    "    domain: float number of a (R)\n",
    "    co-domain: integer of f(a) (R)\n",
    "    '''\n",
    "    b = a%10\n",
    "    if b < 5:\n",
    "        b = 1\n",
    "    if b > 5:\n",
    "        b = 0\n",
    "    return b\n",
    "plotF(sqr_modulo)"
   ]
  }
 ],
 "metadata": {
  "kernelspec": {
   "display_name": "Python 3",
   "language": "python",
   "name": "python3"
  },
  "language_info": {
   "codemirror_mode": {
    "name": "ipython",
    "version": 3
   },
   "file_extension": ".py",
   "mimetype": "text/x-python",
   "name": "python",
   "nbconvert_exporter": "python",
   "pygments_lexer": "ipython3",
   "version": "3.7.6"
  }
 },
 "nbformat": 4,
 "nbformat_minor": 4
}
