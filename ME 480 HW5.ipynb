{
 "cells": [
  {
   "cell_type": "code",
   "execution_count": 1,
   "metadata": {},
   "outputs": [],
   "source": [
    "# Problem (1)-a\n",
    "\n",
    "def dict_maker(criteria, data):\n",
    "    car_dict = zip(criteria,data)\n",
    "    return dict(car_dict)"
   ]
  },
  {
   "cell_type": "code",
   "execution_count": 2,
   "metadata": {},
   "outputs": [],
   "source": [
    "criteria_car = [\"make\", \"model\", \"year\", \"color\", \"number of seats\", \"owner\", \"odometer\", \"passengers\", \"list of trips\"]\n",
    "data_car = [\"Germany\", \"S 450\", \"2020\", \"Silver\", 5, \"Jim\", 6800, [\"Michael\", \"Jim\", \"Pam\", \"Dwight\", \"Andy\"], [\"SF-LA\",\"LA-PDX\",\"PDX-SEA\"]]\n",
    "\n",
    "car_info_A = dict_maker(criteria_car , data_car)"
   ]
  },
  {
   "cell_type": "code",
   "execution_count": 3,
   "metadata": {},
   "outputs": [],
   "source": [
    "# Problem (1)-b,c,d\n",
    "import random\n",
    "\n",
    "def update_dict(dictionary, criteria, data):\n",
    "    if criteria == \"odometer\":\n",
    "        old = dictionary[criteria]\n",
    "        dictionary[criteria] = old + data\n",
    "    elif criteria == \"passengers\":\n",
    "        if len(data) > dictionary[\"number of seats\"]:\n",
    "            data.pop(round(len(data)*random.random())-1)\n",
    "            dictionary[criteria] = data\n",
    "        else:\n",
    "            dictionary[criteria] = data\n",
    "    else:\n",
    "        dictionary[criteria] = data\n",
    "    return dictionary"
   ]
  },
  {
   "cell_type": "code",
   "execution_count": 4,
   "metadata": {},
   "outputs": [
    {
     "data": {
      "text/plain": [
       "{'make': 'Germany',\n",
       " 'model': 'S 450',\n",
       " 'year': '2020',\n",
       " 'color': 'Silver',\n",
       " 'number of seats': 5,\n",
       " 'owner': 'Dwight',\n",
       " 'odometer': 7800,\n",
       " 'passengers': ['Jim', 'Pam', 'Dwight', 'Andy', 'Kevin'],\n",
       " 'list of trips': ['SF-LA', 'LA-PDX', 'PDX-SEA']}"
      ]
     },
     "execution_count": 4,
     "metadata": {},
     "output_type": "execute_result"
    }
   ],
   "source": [
    "update_dict(car_info_A, \"odometer\", 1000)\n",
    "update_dict(car_info_A, \"owner\", \"Dwight\")\n",
    "update_dict(car_info_A, \"passengers\", [\"Michael\", \"Jim\", \"Pam\", \"Dwight\", \"Andy\", \"Kevin\"])"
   ]
  },
  {
   "cell_type": "code",
   "execution_count": 5,
   "metadata": {},
   "outputs": [
    {
     "data": {
      "text/plain": [
       "{'make': 'Germany',\n",
       " 'model': 'S 450',\n",
       " 'year': '2020',\n",
       " 'color': 'Silver',\n",
       " 'number of seats': 5,\n",
       " 'owner': 'Dwight',\n",
       " 'odometer': 7960,\n",
       " 'passengers': ['Ted', 'Barney', 'Marshall', 'Lily', 'Robin'],\n",
       " 'list of trips': ['SF-LA', 'LA-PDX', 'PDX-SEA', 'NY-PD']}"
      ]
     },
     "execution_count": 5,
     "metadata": {},
     "output_type": "execute_result"
    }
   ],
   "source": [
    "# Problem (1)-e\n",
    "\n",
    "def take_a_trip(vehicle, passengers, trip, distance):\n",
    "#     update passengers\n",
    "    if len(passengers) > vehicle[\"number of seats\"]:\n",
    "        passengers.pop(round(len(passengers)*random.random()))\n",
    "        vehicle[\"passengers\"] = passengers\n",
    "    else:\n",
    "        vehicle[\"passengers\"] = passengers\n",
    "#     update distance\n",
    "    old = vehicle[\"odometer\"]\n",
    "    vehicle[\"odometer\"] = old + distance\n",
    "#     update trip list\n",
    "    old_list = vehicle[\"list of trips\"]\n",
    "    vehicle[\"list of trips\"] = old_list + trip\n",
    "    \n",
    "    return vehicle\n",
    "\n",
    "\n",
    "take_a_trip(car_info_A, [\"Ted\", \"Barney\", \"Marshall\", \"Lily\", \"Robin\"], [\"NY-PD\"], 160)"
   ]
  },
  {
   "cell_type": "code",
   "execution_count": 6,
   "metadata": {},
   "outputs": [
    {
     "name": "stdout",
     "output_type": "stream",
     "text": [
      "{'make': 'Germany', 'model': 'S 450', 'year': '2020', 'color': 'Silver', 'number of seats': 5, 'owner': 'Dwight', 'odometer': 7960, 'passengers': ['Ted', 'Barney', 'Marshall', 'Lily', 'Robin'], 'list of trips': ['SF-LA', 'LA-PDX', 'PDX-SEA', 'NY-PD']}\n"
     ]
    }
   ],
   "source": [
    "# Problem (1)-f\n",
    "\n",
    "def print_dict_as_string(dictA):\n",
    "    print(str(dictA))\n",
    "    \n",
    "print_dict_as_string(car_info_A)"
   ]
  },
  {
   "cell_type": "code",
   "execution_count": 7,
   "metadata": {},
   "outputs": [],
   "source": [
    "# Problem (2)\n",
    "\n",
    "class Car_info:\n",
    "    def __init__(self,make,model,year,color,number_of_seats,owner,odometer,passengers,list_of_trips):\n",
    "        self.make = make\n",
    "        self.model = model\n",
    "        self.year = year\n",
    "        self.color = color\n",
    "        self.number_of_seats = number_of_seats\n",
    "        self.owner = owner\n",
    "        self.odometer = odometer\n",
    "        self.passengers = passengers\n",
    "        self.list_of_trips = list_of_trips\n",
    "        \n",
    "        self.__count = 0\n",
    "        \n",
    "    def update(self,criteria,data):\n",
    "        if criteria == \"odometer\":\n",
    "            self.odometer = self.odometer + data\n",
    "        elif criteria == \"passengers\":\n",
    "            self.__count += 1\n",
    "            if len(data) > self.number_of_seats:\n",
    "                data.pop(round(len(data)*random.random())-1)\n",
    "                self.passengers = data\n",
    "            else:\n",
    "                self.passengers = data\n",
    "        elif criteria == \"owner\":\n",
    "            self.owner = data\n",
    "            \n",
    "    def take_a_trip(self, passengers, distance, trip):\n",
    "        self.__count += 1\n",
    "        self.passengers = passengers\n",
    "        self.odometer = self.odometer + distance\n",
    "        self.list_of_trips = self.list_of_trips + trip\n",
    "        \n",
    "    def __str__(self):\n",
    "        return f\"This car is made in {self.make} in {self.year}.\\nThe model is {self.model} and the color is {self.color}.\\nThe number of seats is {self.number_of_seats} and the owner is {self.owner}.\\nThe milage is {self.odometer} miles and the passengers are {self.passengers}.\\nThis car has been to {self.list_of_trips}.\"\n",
    "\n",
    "    def __del__(self):\n",
    "        print(f\"The passengers list of this car has changed {self.__count} times.\")\n",
    "    \n",
    "car_info_B = Car_info(\"Italy\", \"A200\", \"1968\", \"Black\", 3, \"Barney\", 3200, [\"Barney\", \"Robin\"], [\"NY-SF\"])"
   ]
  },
  {
   "cell_type": "code",
   "execution_count": 8,
   "metadata": {},
   "outputs": [
    {
     "data": {
      "text/plain": [
       "3230"
      ]
     },
     "execution_count": 8,
     "metadata": {},
     "output_type": "execute_result"
    }
   ],
   "source": [
    "# Problem (2)-b\n",
    "\n",
    "car_info_B.update(\"odometer\", 30)\n",
    "car_info_B.odometer"
   ]
  },
  {
   "cell_type": "code",
   "execution_count": 9,
   "metadata": {},
   "outputs": [
    {
     "data": {
      "text/plain": [
       "'Ross'"
      ]
     },
     "execution_count": 9,
     "metadata": {},
     "output_type": "execute_result"
    }
   ],
   "source": [
    "# Problem (2)-c\n",
    "\n",
    "car_info_B.update(\"owner\", \"Ross\")\n",
    "car_info_B.owner"
   ]
  },
  {
   "cell_type": "code",
   "execution_count": 10,
   "metadata": {},
   "outputs": [
    {
     "data": {
      "text/plain": [
       "['Rachel', 'Monica', 'Chandeler']"
      ]
     },
     "execution_count": 10,
     "metadata": {},
     "output_type": "execute_result"
    }
   ],
   "source": [
    "# Problem (2)-d\n",
    "\n",
    "car_info_B.update(\"passengers\", [\"Ross\", \"Rachel\", \"Monica\", \"Chandeler\"])\n",
    "car_info_B.passengers"
   ]
  },
  {
   "cell_type": "code",
   "execution_count": 11,
   "metadata": {},
   "outputs": [
    {
     "data": {
      "text/plain": [
       "['NY-SF', 'SEA-LA']"
      ]
     },
     "execution_count": 11,
     "metadata": {},
     "output_type": "execute_result"
    }
   ],
   "source": [
    "# Problem (2)-e\n",
    "\n",
    "car_info_B.take_a_trip([\"Ross\", \"Rachel\", \"Monica\", \"Chandeler\"], 205, [\"SEA-LA\"])\n",
    "car_info_B.list_of_trips"
   ]
  },
  {
   "cell_type": "code",
   "execution_count": 12,
   "metadata": {},
   "outputs": [
    {
     "name": "stdout",
     "output_type": "stream",
     "text": [
      "This car is made in Italy in 1968.\n",
      "The model is A200 and the color is Black.\n",
      "The number of seats is 3 and the owner is Ross.\n",
      "The milage is 3435 miles and the passengers are ['Ross', 'Rachel', 'Monica', 'Chandeler'].\n",
      "This car has been to ['NY-SF', 'SEA-LA'].\n"
     ]
    }
   ],
   "source": [
    "# Problem (2)-f\n",
    "\n",
    "print(car_info_B)"
   ]
  },
  {
   "cell_type": "code",
   "execution_count": 13,
   "metadata": {},
   "outputs": [
    {
     "name": "stdout",
     "output_type": "stream",
     "text": [
      "The passengers list of this car has changed 2 times.\n"
     ]
    }
   ],
   "source": [
    "# Problem (3)\n",
    "\n",
    "car_to_destroy = Car_info(\"Italy\", \"A200\", \"1968\", \"Black\", 3, \"Barney\", 3200, [\"Barney\", \"Robin\"], [\"NY-SF\"])\n",
    "car_to_destroy.update(\"passengers\", [\"Ross\", \"Rachel\", \"Monica\", \"Chandeler\"])\n",
    "car_to_destroy.take_a_trip([\"Ross\", \"Rachel\", \"Monica\", \"Chandeler\"], 205, [\"SEA-LA\"])\n",
    "del car_to_destroy"
   ]
  },
  {
   "cell_type": "code",
   "execution_count": 16,
   "metadata": {},
   "outputs": [
    {
     "data": {
      "text/plain": [
       "[-2, 1, 4, 7, 10, 13, 16, 19, 22, 25]"
      ]
     },
     "execution_count": 16,
     "metadata": {},
     "output_type": "execute_result"
    }
   ],
   "source": [
    "# Problem (4)\n",
    "\n",
    "def linear_func_generator(slope,offset):\n",
    "    def linear_transform(x):\n",
    "        return x*slope + offset\n",
    "    return linear_transform\n",
    "\n",
    "func1 = linear_func_generator(3,-2)\n",
    "list(map(func1,range(0,10)))"
   ]
  },
  {
   "cell_type": "code",
   "execution_count": 17,
   "metadata": {},
   "outputs": [
    {
     "data": {
      "text/plain": [
       "[-2, 1, 4, 7, 10, 13, 16, 19, 22, 25]"
      ]
     },
     "execution_count": 17,
     "metadata": {},
     "output_type": "execute_result"
    }
   ],
   "source": [
    "# Problem (5)\n",
    "\n",
    "class Func_Generator:\n",
    "    def __init__(self,slope,offset):\n",
    "        self.s = slope\n",
    "        self.o = offset\n",
    "        \n",
    "    def linear_transform(self,x):\n",
    "        return x*self.s + self.o\n",
    "    \n",
    "func2 = Func_Generator(3,-2)\n",
    "list(map(func2.linear_transform,range(0,10)))"
   ]
  },
  {
   "cell_type": "code",
   "execution_count": 18,
   "metadata": {},
   "outputs": [],
   "source": [
    "# Problem (6)\n",
    "\n",
    "def Fibonacci(n):\n",
    "    a = 0\n",
    "    b = 1\n",
    "    for i in range(n):\n",
    "        if i == 0:\n",
    "            yield 0\n",
    "        elif i == 1:\n",
    "            yield 1\n",
    "        else:\n",
    "            s = a + b\n",
    "            a = b\n",
    "            b = s\n",
    "            yield s\n",
    "            \n",
    "Fib = Fibonacci(50)"
   ]
  },
  {
   "cell_type": "code",
   "execution_count": 19,
   "metadata": {},
   "outputs": [
    {
     "data": {
      "text/plain": [
       "[0,\n",
       " 1,\n",
       " 1,\n",
       " 2,\n",
       " 3,\n",
       " 5,\n",
       " 8,\n",
       " 13,\n",
       " 21,\n",
       " 34,\n",
       " 55,\n",
       " 89,\n",
       " 144,\n",
       " 233,\n",
       " 377,\n",
       " 610,\n",
       " 987,\n",
       " 1597,\n",
       " 2584,\n",
       " 4181,\n",
       " 6765,\n",
       " 10946,\n",
       " 17711,\n",
       " 28657,\n",
       " 46368,\n",
       " 75025,\n",
       " 121393,\n",
       " 196418,\n",
       " 317811,\n",
       " 514229,\n",
       " 832040,\n",
       " 1346269,\n",
       " 2178309,\n",
       " 3524578,\n",
       " 5702887,\n",
       " 9227465,\n",
       " 14930352,\n",
       " 24157817,\n",
       " 39088169,\n",
       " 63245986,\n",
       " 102334155,\n",
       " 165580141,\n",
       " 267914296,\n",
       " 433494437,\n",
       " 701408733,\n",
       " 1134903170,\n",
       " 1836311903,\n",
       " 2971215073,\n",
       " 4807526976,\n",
       " 7778742049]"
      ]
     },
     "execution_count": 19,
     "metadata": {},
     "output_type": "execute_result"
    }
   ],
   "source": [
    "list(Fib)"
   ]
  },
  {
   "cell_type": "code",
   "execution_count": 23,
   "metadata": {},
   "outputs": [],
   "source": [
    "# Problem (7)\n",
    "\n",
    "class Fibonacci_gen:\n",
    "    def __init__(self,n):\n",
    "        self.n = n\n",
    "        self.a = 0\n",
    "        self.b = 1\n",
    "        self.ct = 0\n",
    "        self.t = 0\n",
    "        \n",
    "    def __iter__(self):\n",
    "        return self\n",
    "    \n",
    "    def __next__(self):\n",
    "        if self.ct == 0:\n",
    "            self.ct += 1\n",
    "            return 0\n",
    "        elif self.ct == 1:\n",
    "            self.ct += 1\n",
    "            return 1\n",
    "        else:\n",
    "            self.ct += 1\n",
    "            self.t = self.a + self.b\n",
    "            self.a = self.b\n",
    "            self.b = self.t\n",
    "            return self.t\n",
    "        raise StopIteration\n",
    "            \n",
    "\n",
    "fib2 = Fibonacci_gen(50)"
   ]
  },
  {
   "cell_type": "code",
   "execution_count": 24,
   "metadata": {},
   "outputs": [
    {
     "name": "stdout",
     "output_type": "stream",
     "text": [
      "0\n",
      "1\n",
      "1\n",
      "2\n",
      "3\n",
      "5\n",
      "8\n",
      "13\n",
      "21\n",
      "34\n",
      "55\n",
      "89\n",
      "144\n",
      "233\n",
      "377\n",
      "610\n",
      "987\n",
      "1597\n",
      "2584\n",
      "4181\n",
      "6765\n",
      "10946\n",
      "17711\n",
      "28657\n",
      "46368\n",
      "75025\n",
      "121393\n",
      "196418\n",
      "317811\n",
      "514229\n",
      "832040\n",
      "1346269\n",
      "2178309\n",
      "3524578\n",
      "5702887\n",
      "9227465\n",
      "14930352\n",
      "24157817\n",
      "39088169\n",
      "63245986\n",
      "102334155\n",
      "165580141\n",
      "267914296\n",
      "433494437\n",
      "701408733\n",
      "1134903170\n",
      "1836311903\n",
      "2971215073\n",
      "4807526976\n",
      "7778742049\n"
     ]
    }
   ],
   "source": [
    "for i in range(50):\n",
    "    print(next(fib2))"
   ]
  },
  {
   "cell_type": "code",
   "execution_count": 31,
   "metadata": {},
   "outputs": [],
   "source": [
    "# Problem(8)\n",
    "\n",
    "class Polygon:\n",
    "    def __init__(self,lst):\n",
    "        self.lst = lst\n",
    "        self.total = sum(self.lst)\n",
    "        \n",
    "    def valid(self):\n",
    "        flag = True\n",
    "        for i in range(len(self.lst)):\n",
    "            r = self.total - self.lst[i]\n",
    "            if r <= self.lst[i]:\n",
    "                flag = False\n",
    "        return flag\n",
    "    \n",
    "    def number_of_sides(self):\n",
    "        return len(self.lst)\n",
    "    \n",
    "    def perimeter(self):\n",
    "        return self.total"
   ]
  },
  {
   "cell_type": "code",
   "execution_count": 37,
   "metadata": {},
   "outputs": [
    {
     "name": "stdout",
     "output_type": "stream",
     "text": [
      "False\n",
      "5\n",
      "37\n"
     ]
    }
   ],
   "source": [
    "tri = Polygon([3,4,5,6,19])\n",
    "print(tri.valid())\n",
    "print(tri.number_of_sides())\n",
    "print(tri.perimeter())"
   ]
  },
  {
   "cell_type": "code",
   "execution_count": 40,
   "metadata": {},
   "outputs": [
    {
     "data": {
      "text/plain": [
       "3.847104421469067"
      ]
     },
     "execution_count": 40,
     "metadata": {},
     "output_type": "execute_result"
    }
   ],
   "source": [
    "# Problem (9)\n",
    "import numpy as np\n",
    "\n",
    "class Regular_Polygon(Polygon):\n",
    "    def __init__(self, n, l):\n",
    "        self.n = n\n",
    "        self.l = l\n",
    "    def area(self):\n",
    "        return (self.l**2/self.n)/(4*np.tan(np.pi/(2*self.n)))\n",
    "    \n",
    "rp = Regular_Polygon(5,5)\n",
    "rp.area()"
   ]
  }
 ],
 "metadata": {
  "kernelspec": {
   "display_name": "Python 3",
   "language": "python",
   "name": "python3"
  },
  "language_info": {
   "codemirror_mode": {
    "name": "ipython",
    "version": 3
   },
   "file_extension": ".py",
   "mimetype": "text/x-python",
   "name": "python",
   "nbconvert_exporter": "python",
   "pygments_lexer": "ipython3",
   "version": "3.7.6"
  }
 },
 "nbformat": 4,
 "nbformat_minor": 4
}
